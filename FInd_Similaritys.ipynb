{
 "cells": [
  {
   "cell_type": "code",
   "execution_count": 5,
   "metadata": {},
   "outputs": [],
   "source": [
    "import pandas as pd\n",
    "import random\n",
    "import string\n",
    "\n",
    "# Function to generate random alphanumeric strings\n",
    "def generate_random_string(length):\n",
    "    letters_and_digits = string.ascii_uppercase + string.digits\n",
    "    result_str = 'X1' + ''.join(random.choice(letters_and_digits) for i in range(length))\n",
    "    return result_str\n",
    "\n",
    "# Sample data for the columns\n",
    "courts = [\"United States Court of Appeals, Seventh Circuit.\", \"Supreme Court of the United States\", \n",
    "          \"United States Court of Appeals, Second Circuit.\", \"United States Court of Appeals, Fifth Circuit.\"]\n",
    "\n",
    "cases_and_results = [(\"Paul W. DOUGLASS, Plaintiff-Appellant, v. UNITED SERVICES AUTOMOBILE ASSOCIATION, Defendant-Appellee.\", \n",
    "                      \"Paul W. DOUGLASS, Plaintiff-Appellant, v. UNITED SERVICES AUTOMOBILE ASSOCIATION, Defendant-Appellee. 79 F.3d 1415 (1996)\"), \n",
    "                     (\"MALLARD v. UNITED STATES DISTRICT COURT FOR THE SOUTHERN DISTRICT OF IOWA ET AL.\", \n",
    "                      \"MALLARD v. UNITED STATES DISTRICT COURT FOR THE SOUTHERN DISTRICT OF IOWA ET AL. 490 U.S. 296 (1989)\"), \n",
    "                     (\"ROOKER ET AL. v. FIDELITY TRUST COMPANY ET AL.\", \n",
    "                      \"ROOKER ET AL. v. FIDELITY TRUST COMPANY ET AL. 263 U.S. 413 (1923)\"), \n",
    "                     (\"EXXON MOBIL CORP. ET AL. v. SAUDI BASIC INDUSTRIES CORP.\", \n",
    "                      \"EXXON MOBIL CORP. ET AL. v. SAUDI BASIC INDUSTRIES CORP. 544 U.S. 280 (2005)\")]\n",
    "\n",
    "# CT_df DataFrame\n",
    "docid = [generate_random_string(10) for _ in range(100)]\n",
    "court_ct = [random.choice(courts) for _ in range(100)]\n",
    "casename_ct, result_header_ct = zip(*[random.choice(cases_and_results) for _ in range(100)])\n",
    "CT_df = pd.DataFrame({'docid': docid, 'court': court_ct, 'casename': casename_ct, 'result_header': result_header_ct})\n",
    "\n",
    "# Do_df DataFrame\n",
    "docket_id = [generate_random_string(10) for _ in range(10000)]\n",
    "court_do = [random.choice(courts) for _ in range(10000)]\n",
    "casename_do, result_header_do = zip(*[random.choice(cases_and_results) for _ in range(10000)])\n",
    "Do_df = pd.DataFrame({'docket_id': docket_id, 'court': court_do, 'casename': casename_do, 'result_header': result_header_do})\n"
   ]
  },
  {
   "cell_type": "code",
   "execution_count": 13,
   "metadata": {},
   "outputs": [
    {
     "data": {
      "text/plain": [
       "'X1LX99GTWBEV'"
      ]
     },
     "execution_count": 13,
     "metadata": {},
     "output_type": "execute_result"
    }
   ],
   "source": [
    "Do_df.docket_id[10]"
   ]
  },
  {
   "cell_type": "code",
   "execution_count": 14,
   "metadata": {},
   "outputs": [
    {
     "data": {
      "text/plain": [
       "'X1F77R43F7OU'"
      ]
     },
     "execution_count": 14,
     "metadata": {},
     "output_type": "execute_result"
    }
   ],
   "source": [
    "CT_df.docid[10]"
   ]
  },
  {
   "cell_type": "code",
   "execution_count": 15,
   "metadata": {},
   "outputs": [
    {
     "data": {
      "text/plain": [
       "10000"
      ]
     },
     "execution_count": 15,
     "metadata": {},
     "output_type": "execute_result"
    }
   ],
   "source": [
    "len(Do_df)"
   ]
  },
  {
   "cell_type": "code",
   "execution_count": 20,
   "metadata": {},
   "outputs": [],
   "source": [
    "from fuzzywuzzy import fuzz\n",
    "\n",
    "# Create an empty dictionary to hold potential links\n",
    "potential_links = {}\n",
    "\n",
    "# Iterate over each row in CT_df\n",
    "for index, row in CT_df.iterrows():\n",
    "    potential_links[row['docid']] = [] # Initialize as empty list\n",
    "    # Iterate over each row in Do_df\n",
    "    for index_do, row_do in Do_df.iterrows():\n",
    "        # If the courts are the same\n",
    "        if row['court'] == row_do['court']:\n",
    "            # Calculate the similarity scores\n",
    "            casename_score = fuzz.ratio(row['casename'], row_do['casename'])\n",
    "            result_header_score = fuzz.ratio(row['result_header'], row_do['result_header'])\n",
    "            # If the scores meet the thresholds, add the docket_id to potential links\n",
    "            if casename_score > 90 and result_header_score > 88:\n",
    "                potential_links[row['docid']].append(row_do['docket_id'])\n",
    "\n",
    "# Add the potential links as a new column in CT_df\n",
    "CT_df['potential_links'] = CT_df['docid'].map(potential_links)\n"
   ]
  },
  {
   "cell_type": "code",
   "execution_count": 21,
   "metadata": {},
   "outputs": [
    {
     "data": {
      "text/html": [
       "<div>\n",
       "<style scoped>\n",
       "    .dataframe tbody tr th:only-of-type {\n",
       "        vertical-align: middle;\n",
       "    }\n",
       "\n",
       "    .dataframe tbody tr th {\n",
       "        vertical-align: top;\n",
       "    }\n",
       "\n",
       "    .dataframe thead th {\n",
       "        text-align: right;\n",
       "    }\n",
       "</style>\n",
       "<table border=\"1\" class=\"dataframe\">\n",
       "  <thead>\n",
       "    <tr style=\"text-align: right;\">\n",
       "      <th></th>\n",
       "      <th>docid</th>\n",
       "      <th>court</th>\n",
       "      <th>casename</th>\n",
       "      <th>result_header</th>\n",
       "      <th>potential_links</th>\n",
       "    </tr>\n",
       "  </thead>\n",
       "  <tbody>\n",
       "    <tr>\n",
       "      <th>0</th>\n",
       "      <td>X1AZUEJL1ZI7</td>\n",
       "      <td>United States Court of Appeals, Second Circuit.</td>\n",
       "      <td>EXXON MOBIL CORP. ET AL. v. SAUDI BASIC INDUST...</td>\n",
       "      <td>EXXON MOBIL CORP. ET AL. v. SAUDI BASIC INDUST...</td>\n",
       "      <td>[X1VPBWSQGTBI, X1RDB40BU7PH, X144W2DMOQ1G, X1X...</td>\n",
       "    </tr>\n",
       "    <tr>\n",
       "      <th>1</th>\n",
       "      <td>X1X6DQKA5CQ5</td>\n",
       "      <td>United States Court of Appeals, Seventh Circuit.</td>\n",
       "      <td>ROOKER ET AL. v. FIDELITY TRUST COMPANY ET AL.</td>\n",
       "      <td>ROOKER ET AL. v. FIDELITY TRUST COMPANY ET AL....</td>\n",
       "      <td>[X1N0CP1PJ9JF, X1NYVVBP9WZ8, X1UXAJB5FW1G, X11...</td>\n",
       "    </tr>\n",
       "    <tr>\n",
       "      <th>2</th>\n",
       "      <td>X1V2J5322N0R</td>\n",
       "      <td>Supreme Court of the United States</td>\n",
       "      <td>MALLARD v. UNITED STATES DISTRICT COURT FOR TH...</td>\n",
       "      <td>MALLARD v. UNITED STATES DISTRICT COURT FOR TH...</td>\n",
       "      <td>[X1P5KBSLDT1L, X1OQOO79U3G9, X1SIQDH1JS61, X1R...</td>\n",
       "    </tr>\n",
       "    <tr>\n",
       "      <th>3</th>\n",
       "      <td>X1T7GC07XV7B</td>\n",
       "      <td>United States Court of Appeals, Second Circuit.</td>\n",
       "      <td>MALLARD v. UNITED STATES DISTRICT COURT FOR TH...</td>\n",
       "      <td>MALLARD v. UNITED STATES DISTRICT COURT FOR TH...</td>\n",
       "      <td>[X1Q3WSSZPXPC, X1Z07CYO9ACV, X1LG7ZCPUFOQ, X1A...</td>\n",
       "    </tr>\n",
       "    <tr>\n",
       "      <th>4</th>\n",
       "      <td>X1YMKX0ACKDC</td>\n",
       "      <td>United States Court of Appeals, Seventh Circuit.</td>\n",
       "      <td>ROOKER ET AL. v. FIDELITY TRUST COMPANY ET AL.</td>\n",
       "      <td>ROOKER ET AL. v. FIDELITY TRUST COMPANY ET AL....</td>\n",
       "      <td>[X1N0CP1PJ9JF, X1NYVVBP9WZ8, X1UXAJB5FW1G, X11...</td>\n",
       "    </tr>\n",
       "    <tr>\n",
       "      <th>...</th>\n",
       "      <td>...</td>\n",
       "      <td>...</td>\n",
       "      <td>...</td>\n",
       "      <td>...</td>\n",
       "      <td>...</td>\n",
       "    </tr>\n",
       "    <tr>\n",
       "      <th>95</th>\n",
       "      <td>X1ITRXVTVB2X</td>\n",
       "      <td>United States Court of Appeals, Fifth Circuit.</td>\n",
       "      <td>MALLARD v. UNITED STATES DISTRICT COURT FOR TH...</td>\n",
       "      <td>MALLARD v. UNITED STATES DISTRICT COURT FOR TH...</td>\n",
       "      <td>[X13W3RLH8CWP, X1DY4D2JXWDP, X1WYL96AJ6KQ, X1G...</td>\n",
       "    </tr>\n",
       "    <tr>\n",
       "      <th>96</th>\n",
       "      <td>X1IGYFYIMEJL</td>\n",
       "      <td>Supreme Court of the United States</td>\n",
       "      <td>Paul W. DOUGLASS, Plaintiff-Appellant, v. UNIT...</td>\n",
       "      <td>Paul W. DOUGLASS, Plaintiff-Appellant, v. UNIT...</td>\n",
       "      <td>[X1I3L1H7C55P, X1FJ2G9FWFJC, X16WWEI4B35Q, X1C...</td>\n",
       "    </tr>\n",
       "    <tr>\n",
       "      <th>97</th>\n",
       "      <td>X1XF58E0CVCN</td>\n",
       "      <td>United States Court of Appeals, Fifth Circuit.</td>\n",
       "      <td>EXXON MOBIL CORP. ET AL. v. SAUDI BASIC INDUST...</td>\n",
       "      <td>EXXON MOBIL CORP. ET AL. v. SAUDI BASIC INDUST...</td>\n",
       "      <td>[X1LX99GTWBEV, X1VD6C2WYRTZ, X1SK9YKM91MN, X1V...</td>\n",
       "    </tr>\n",
       "    <tr>\n",
       "      <th>98</th>\n",
       "      <td>X1HY4273W27Y</td>\n",
       "      <td>United States Court of Appeals, Second Circuit.</td>\n",
       "      <td>MALLARD v. UNITED STATES DISTRICT COURT FOR TH...</td>\n",
       "      <td>MALLARD v. UNITED STATES DISTRICT COURT FOR TH...</td>\n",
       "      <td>[X1Q3WSSZPXPC, X1Z07CYO9ACV, X1LG7ZCPUFOQ, X1A...</td>\n",
       "    </tr>\n",
       "    <tr>\n",
       "      <th>99</th>\n",
       "      <td>X1SEOC9R4TTG</td>\n",
       "      <td>United States Court of Appeals, Second Circuit.</td>\n",
       "      <td>MALLARD v. UNITED STATES DISTRICT COURT FOR TH...</td>\n",
       "      <td>MALLARD v. UNITED STATES DISTRICT COURT FOR TH...</td>\n",
       "      <td>[X1Q3WSSZPXPC, X1Z07CYO9ACV, X1LG7ZCPUFOQ, X1A...</td>\n",
       "    </tr>\n",
       "  </tbody>\n",
       "</table>\n",
       "<p>100 rows × 5 columns</p>\n",
       "</div>"
      ],
      "text/plain": [
       "           docid                                             court  \\\n",
       "0   X1AZUEJL1ZI7   United States Court of Appeals, Second Circuit.   \n",
       "1   X1X6DQKA5CQ5  United States Court of Appeals, Seventh Circuit.   \n",
       "2   X1V2J5322N0R                Supreme Court of the United States   \n",
       "3   X1T7GC07XV7B   United States Court of Appeals, Second Circuit.   \n",
       "4   X1YMKX0ACKDC  United States Court of Appeals, Seventh Circuit.   \n",
       "..           ...                                               ...   \n",
       "95  X1ITRXVTVB2X    United States Court of Appeals, Fifth Circuit.   \n",
       "96  X1IGYFYIMEJL                Supreme Court of the United States   \n",
       "97  X1XF58E0CVCN    United States Court of Appeals, Fifth Circuit.   \n",
       "98  X1HY4273W27Y   United States Court of Appeals, Second Circuit.   \n",
       "99  X1SEOC9R4TTG   United States Court of Appeals, Second Circuit.   \n",
       "\n",
       "                                             casename  \\\n",
       "0   EXXON MOBIL CORP. ET AL. v. SAUDI BASIC INDUST...   \n",
       "1      ROOKER ET AL. v. FIDELITY TRUST COMPANY ET AL.   \n",
       "2   MALLARD v. UNITED STATES DISTRICT COURT FOR TH...   \n",
       "3   MALLARD v. UNITED STATES DISTRICT COURT FOR TH...   \n",
       "4      ROOKER ET AL. v. FIDELITY TRUST COMPANY ET AL.   \n",
       "..                                                ...   \n",
       "95  MALLARD v. UNITED STATES DISTRICT COURT FOR TH...   \n",
       "96  Paul W. DOUGLASS, Plaintiff-Appellant, v. UNIT...   \n",
       "97  EXXON MOBIL CORP. ET AL. v. SAUDI BASIC INDUST...   \n",
       "98  MALLARD v. UNITED STATES DISTRICT COURT FOR TH...   \n",
       "99  MALLARD v. UNITED STATES DISTRICT COURT FOR TH...   \n",
       "\n",
       "                                        result_header  \\\n",
       "0   EXXON MOBIL CORP. ET AL. v. SAUDI BASIC INDUST...   \n",
       "1   ROOKER ET AL. v. FIDELITY TRUST COMPANY ET AL....   \n",
       "2   MALLARD v. UNITED STATES DISTRICT COURT FOR TH...   \n",
       "3   MALLARD v. UNITED STATES DISTRICT COURT FOR TH...   \n",
       "4   ROOKER ET AL. v. FIDELITY TRUST COMPANY ET AL....   \n",
       "..                                                ...   \n",
       "95  MALLARD v. UNITED STATES DISTRICT COURT FOR TH...   \n",
       "96  Paul W. DOUGLASS, Plaintiff-Appellant, v. UNIT...   \n",
       "97  EXXON MOBIL CORP. ET AL. v. SAUDI BASIC INDUST...   \n",
       "98  MALLARD v. UNITED STATES DISTRICT COURT FOR TH...   \n",
       "99  MALLARD v. UNITED STATES DISTRICT COURT FOR TH...   \n",
       "\n",
       "                                      potential_links  \n",
       "0   [X1VPBWSQGTBI, X1RDB40BU7PH, X144W2DMOQ1G, X1X...  \n",
       "1   [X1N0CP1PJ9JF, X1NYVVBP9WZ8, X1UXAJB5FW1G, X11...  \n",
       "2   [X1P5KBSLDT1L, X1OQOO79U3G9, X1SIQDH1JS61, X1R...  \n",
       "3   [X1Q3WSSZPXPC, X1Z07CYO9ACV, X1LG7ZCPUFOQ, X1A...  \n",
       "4   [X1N0CP1PJ9JF, X1NYVVBP9WZ8, X1UXAJB5FW1G, X11...  \n",
       "..                                                ...  \n",
       "95  [X13W3RLH8CWP, X1DY4D2JXWDP, X1WYL96AJ6KQ, X1G...  \n",
       "96  [X1I3L1H7C55P, X1FJ2G9FWFJC, X16WWEI4B35Q, X1C...  \n",
       "97  [X1LX99GTWBEV, X1VD6C2WYRTZ, X1SK9YKM91MN, X1V...  \n",
       "98  [X1Q3WSSZPXPC, X1Z07CYO9ACV, X1LG7ZCPUFOQ, X1A...  \n",
       "99  [X1Q3WSSZPXPC, X1Z07CYO9ACV, X1LG7ZCPUFOQ, X1A...  \n",
       "\n",
       "[100 rows x 5 columns]"
      ]
     },
     "execution_count": 21,
     "metadata": {},
     "output_type": "execute_result"
    }
   ],
   "source": [
    "CT_df"
   ]
  },
  {
   "cell_type": "code",
   "execution_count": 26,
   "metadata": {},
   "outputs": [
    {
     "data": {
      "text/html": [
       "<div>\n",
       "<style scoped>\n",
       "    .dataframe tbody tr th:only-of-type {\n",
       "        vertical-align: middle;\n",
       "    }\n",
       "\n",
       "    .dataframe tbody tr th {\n",
       "        vertical-align: top;\n",
       "    }\n",
       "\n",
       "    .dataframe thead th {\n",
       "        text-align: right;\n",
       "    }\n",
       "</style>\n",
       "<table border=\"1\" class=\"dataframe\">\n",
       "  <thead>\n",
       "    <tr style=\"text-align: right;\">\n",
       "      <th></th>\n",
       "      <th>docket_id</th>\n",
       "      <th>court</th>\n",
       "      <th>casename</th>\n",
       "      <th>result_header</th>\n",
       "    </tr>\n",
       "  </thead>\n",
       "  <tbody>\n",
       "    <tr>\n",
       "      <th>23</th>\n",
       "      <td>X1UXAJB5FW1G</td>\n",
       "      <td>United States Court of Appeals, Seventh Circuit.</td>\n",
       "      <td>ROOKER ET AL. v. FIDELITY TRUST COMPANY ET AL.</td>\n",
       "      <td>ROOKER ET AL. v. FIDELITY TRUST COMPANY ET AL....</td>\n",
       "    </tr>\n",
       "  </tbody>\n",
       "</table>\n",
       "</div>"
      ],
      "text/plain": [
       "       docket_id                                             court  \\\n",
       "23  X1UXAJB5FW1G  United States Court of Appeals, Seventh Circuit.   \n",
       "\n",
       "                                          casename  \\\n",
       "23  ROOKER ET AL. v. FIDELITY TRUST COMPANY ET AL.   \n",
       "\n",
       "                                        result_header  \n",
       "23  ROOKER ET AL. v. FIDELITY TRUST COMPANY ET AL....  "
      ]
     },
     "execution_count": 26,
     "metadata": {},
     "output_type": "execute_result"
    }
   ],
   "source": [
    "Do_df[Do_df['docket_id']=='X1UXAJB5FW1G']"
   ]
  },
  {
   "cell_type": "code",
   "execution_count": 23,
   "metadata": {},
   "outputs": [
    {
     "data": {
      "text/html": [
       "<div>\n",
       "<style scoped>\n",
       "    .dataframe tbody tr th:only-of-type {\n",
       "        vertical-align: middle;\n",
       "    }\n",
       "\n",
       "    .dataframe tbody tr th {\n",
       "        vertical-align: top;\n",
       "    }\n",
       "\n",
       "    .dataframe thead th {\n",
       "        text-align: right;\n",
       "    }\n",
       "</style>\n",
       "<table border=\"1\" class=\"dataframe\">\n",
       "  <thead>\n",
       "    <tr style=\"text-align: right;\">\n",
       "      <th></th>\n",
       "      <th>docid</th>\n",
       "      <th>court</th>\n",
       "      <th>casename</th>\n",
       "      <th>result_header</th>\n",
       "      <th>potential_links</th>\n",
       "    </tr>\n",
       "  </thead>\n",
       "  <tbody>\n",
       "    <tr>\n",
       "      <th>4</th>\n",
       "      <td>X1YMKX0ACKDC</td>\n",
       "      <td>United States Court of Appeals, Seventh Circuit.</td>\n",
       "      <td>ROOKER ET AL. v. FIDELITY TRUST COMPANY ET AL.</td>\n",
       "      <td>ROOKER ET AL. v. FIDELITY TRUST COMPANY ET AL....</td>\n",
       "      <td>[X1N0CP1PJ9JF, X1NYVVBP9WZ8, X1UXAJB5FW1G, X11...</td>\n",
       "    </tr>\n",
       "  </tbody>\n",
       "</table>\n",
       "</div>"
      ],
      "text/plain": [
       "          docid                                             court  \\\n",
       "4  X1YMKX0ACKDC  United States Court of Appeals, Seventh Circuit.   \n",
       "\n",
       "                                         casename  \\\n",
       "4  ROOKER ET AL. v. FIDELITY TRUST COMPANY ET AL.   \n",
       "\n",
       "                                       result_header  \\\n",
       "4  ROOKER ET AL. v. FIDELITY TRUST COMPANY ET AL....   \n",
       "\n",
       "                                     potential_links  \n",
       "4  [X1N0CP1PJ9JF, X1NYVVBP9WZ8, X1UXAJB5FW1G, X11...  "
      ]
     },
     "execution_count": 23,
     "metadata": {},
     "output_type": "execute_result"
    }
   ],
   "source": [
    "CT_df[CT_df['docid']=='X1YMKX0ACKDC']"
   ]
  },
  {
   "cell_type": "code",
   "execution_count": null,
   "metadata": {},
   "outputs": [],
   "source": []
  }
 ],
 "metadata": {
  "kernelspec": {
   "display_name": "Python 3",
   "language": "python",
   "name": "python3"
  },
  "language_info": {
   "codemirror_mode": {
    "name": "ipython",
    "version": 3
   },
   "file_extension": ".py",
   "mimetype": "text/x-python",
   "name": "python",
   "nbconvert_exporter": "python",
   "pygments_lexer": "ipython3",
   "version": "3.7.9"
  }
 },
 "nbformat": 4,
 "nbformat_minor": 4
}




### 11-12-2023
def get_last_value(x):
    # Check if x is a list and it's not empty
    if not isinstance(x, list) or not x:
        return None

    # Recursively process the list to find the last non-null value
    def process_list(lst):
        if not lst:
            return None

        last_elem = lst[-1]

        # If the last element is a tuple, check its elements
        if isinstance(last_elem, tuple):
            # Filter out None values and get the last one if exists
            filtered = [item for item in last_elem if item is not None]
            return filtered[-1] if filtered else process_list(lst[:-1])

        # If the last element is a list, recursively process this list
        elif isinstance(last_elem, list):
            return process_list(last_elem)

        # If the last element is a valid value, return it
        elif last_elem is not None:
            return last_elem

        # Otherwise, process the remaining list
        else:
            return process_list(lst[:-1])

    return process_list(x)
