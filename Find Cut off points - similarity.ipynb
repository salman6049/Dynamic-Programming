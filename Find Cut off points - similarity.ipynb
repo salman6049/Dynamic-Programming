{
 "cells": [
  {
   "cell_type": "code",
   "execution_count": 1,
   "metadata": {},
   "outputs": [
    {
     "name": "stdout",
     "output_type": "stream",
     "text": [
      "Best cutoff points: similarity_score_1 = 70 similarity_score_2 = 70\n"
     ]
    }
   ],
   "source": [
    "import pandas as pd\n",
    "import numpy as np\n",
    "from sklearn.metrics import f1_score\n",
    "\n",
    "# Create a dummy dataset\n",
    "np.random.seed(42)\n",
    "data = {\n",
    "    'similarity_scores_1': np.random.randint(0, 101, 1000),\n",
    "    'similarity_scores_2': np.random.randint(0, 101, 1000),\n",
    "}\n",
    "df = pd.DataFrame(data)\n",
    "\n",
    "# Assign ground truth labels based on a predetermined cutoff point (70 for both columns)\n",
    "df['ground_truth'] = (df['similarity_scores_1'] > 70) & (df['similarity_scores_2'] > 70)\n",
    "\n",
    "# Define a function to calculate the F1 score\n",
    "def calculate_f1_score(df, cutoff_1, cutoff_2):\n",
    "    df['predicted'] = (df['similarity_scores_1'] > cutoff_1) & (df['similarity_scores_2'] > cutoff_2)\n",
    "    f1 = f1_score(df['ground_truth'], df['predicted'])\n",
    "    return f1\n",
    "\n",
    "# Initialize variables for tracking the best cutoff points and the highest F1 score\n",
    "best_cutoff_1 = None\n",
    "best_cutoff_2 = None\n",
    "highest_f1 = 0\n",
    "\n",
    "# Iterate through different cutoff values for both similarity_score_1 and similarity_score_2\n",
    "for cutoff_1 in range(0, 101, 5):\n",
    "    for cutoff_2 in range(0, 101, 5):\n",
    "        f1 = calculate_f1_score(df, cutoff_1, cutoff_2)\n",
    "        if f1 > highest_f1:\n",
    "            best_cutoff_1 = cutoff_1\n",
    "            best_cutoff_2 = cutoff_2\n",
    "            highest_f1 = f1\n",
    "\n",
    "print(\"Best cutoff points: similarity_score_1 =\", best_cutoff_1, \"similarity_score_2 =\", best_cutoff_2)\n"
   ]
  },
  {
   "cell_type": "code",
   "execution_count": 2,
   "metadata": {},
   "outputs": [
    {
     "data": {
      "text/html": [
       "<div>\n",
       "<style scoped>\n",
       "    .dataframe tbody tr th:only-of-type {\n",
       "        vertical-align: middle;\n",
       "    }\n",
       "\n",
       "    .dataframe tbody tr th {\n",
       "        vertical-align: top;\n",
       "    }\n",
       "\n",
       "    .dataframe thead th {\n",
       "        text-align: right;\n",
       "    }\n",
       "</style>\n",
       "<table border=\"1\" class=\"dataframe\">\n",
       "  <thead>\n",
       "    <tr style=\"text-align: right;\">\n",
       "      <th></th>\n",
       "      <th>similarity_scores_1</th>\n",
       "      <th>similarity_scores_2</th>\n",
       "      <th>ground_truth</th>\n",
       "      <th>predicted</th>\n",
       "    </tr>\n",
       "  </thead>\n",
       "  <tbody>\n",
       "    <tr>\n",
       "      <td>0</td>\n",
       "      <td>51</td>\n",
       "      <td>56</td>\n",
       "      <td>False</td>\n",
       "      <td>False</td>\n",
       "    </tr>\n",
       "    <tr>\n",
       "      <td>1</td>\n",
       "      <td>92</td>\n",
       "      <td>16</td>\n",
       "      <td>False</td>\n",
       "      <td>False</td>\n",
       "    </tr>\n",
       "    <tr>\n",
       "      <td>2</td>\n",
       "      <td>14</td>\n",
       "      <td>85</td>\n",
       "      <td>False</td>\n",
       "      <td>False</td>\n",
       "    </tr>\n",
       "    <tr>\n",
       "      <td>3</td>\n",
       "      <td>71</td>\n",
       "      <td>89</td>\n",
       "      <td>True</td>\n",
       "      <td>False</td>\n",
       "    </tr>\n",
       "    <tr>\n",
       "      <td>4</td>\n",
       "      <td>60</td>\n",
       "      <td>43</td>\n",
       "      <td>False</td>\n",
       "      <td>False</td>\n",
       "    </tr>\n",
       "    <tr>\n",
       "      <td>...</td>\n",
       "      <td>...</td>\n",
       "      <td>...</td>\n",
       "      <td>...</td>\n",
       "      <td>...</td>\n",
       "    </tr>\n",
       "    <tr>\n",
       "      <td>995</td>\n",
       "      <td>88</td>\n",
       "      <td>99</td>\n",
       "      <td>True</td>\n",
       "      <td>False</td>\n",
       "    </tr>\n",
       "    <tr>\n",
       "      <td>996</td>\n",
       "      <td>100</td>\n",
       "      <td>8</td>\n",
       "      <td>False</td>\n",
       "      <td>False</td>\n",
       "    </tr>\n",
       "    <tr>\n",
       "      <td>997</td>\n",
       "      <td>27</td>\n",
       "      <td>37</td>\n",
       "      <td>False</td>\n",
       "      <td>False</td>\n",
       "    </tr>\n",
       "    <tr>\n",
       "      <td>998</td>\n",
       "      <td>73</td>\n",
       "      <td>47</td>\n",
       "      <td>False</td>\n",
       "      <td>False</td>\n",
       "    </tr>\n",
       "    <tr>\n",
       "      <td>999</td>\n",
       "      <td>38</td>\n",
       "      <td>59</td>\n",
       "      <td>False</td>\n",
       "      <td>False</td>\n",
       "    </tr>\n",
       "  </tbody>\n",
       "</table>\n",
       "<p>1000 rows × 4 columns</p>\n",
       "</div>"
      ],
      "text/plain": [
       "     similarity_scores_1  similarity_scores_2  ground_truth  predicted\n",
       "0                     51                   56         False      False\n",
       "1                     92                   16         False      False\n",
       "2                     14                   85         False      False\n",
       "3                     71                   89          True      False\n",
       "4                     60                   43         False      False\n",
       "..                   ...                  ...           ...        ...\n",
       "995                   88                   99          True      False\n",
       "996                  100                    8         False      False\n",
       "997                   27                   37         False      False\n",
       "998                   73                   47         False      False\n",
       "999                   38                   59         False      False\n",
       "\n",
       "[1000 rows x 4 columns]"
      ]
     },
     "execution_count": 2,
     "metadata": {},
     "output_type": "execute_result"
    }
   ],
   "source": [
    "df"
   ]
  },
  {
   "cell_type": "code",
   "execution_count": 3,
   "metadata": {},
   "outputs": [
    {
     "name": "stdout",
     "output_type": "stream",
     "text": [
      "Optimal cutoff points: similarity_score_1 = 49.42414965986395 similarity_score_2 = 49.674949979992\n"
     ]
    }
   ],
   "source": [
    "import pandas as pd\n",
    "import numpy as np\n",
    "from sklearn.cluster import KMeans\n",
    "from sklearn.preprocessing import MinMaxScaler\n",
    "\n",
    "# Create a dummy dataset\n",
    "np.random.seed(42)\n",
    "data = {\n",
    "    'similarity_scores_1': np.random.randint(0, 101, 1000),\n",
    "    'similarity_scores_2': np.random.randint(0, 101, 1000),\n",
    "}\n",
    "df = pd.DataFrame(data)\n",
    "\n",
    "# Normalize the similarity scores\n",
    "scaler = MinMaxScaler()\n",
    "normalized_data = scaler.fit_transform(df)\n",
    "\n",
    "# Cluster the data using K-means algorithm with 2 clusters\n",
    "kmeans = KMeans(n_clusters=2, random_state=42)\n",
    "kmeans.fit(normalized_data)\n",
    "\n",
    "# Find the centroids of the clusters\n",
    "centroids = scaler.inverse_transform(kmeans.cluster_centers_)\n",
    "\n",
    "# Identify the optimal cutoff points by inspecting the centroids\n",
    "cutoff_1 = (centroids[0, 0] + centroids[1, 0]) / 2\n",
    "cutoff_2 = (centroids[0, 1] + centroids[1, 1]) / 2\n",
    "\n",
    "print(\"Optimal cutoff points: similarity_score_1 =\", cutoff_1, \"similarity_score_2 =\", cutoff_2)\n"
   ]
  },
  {
   "cell_type": "code",
   "execution_count": 4,
   "metadata": {},
   "outputs": [
    {
     "name": "stderr",
     "output_type": "stream",
     "text": [
      "In C:\\Users\\sigar\\Anaconda3\\lib\\site-packages\\matplotlib\\mpl-data\\stylelib\\_classic_test.mplstyle: \n",
      "The text.latex.preview rcparam was deprecated in Matplotlib 3.3 and will be removed two minor releases later.\n",
      "In C:\\Users\\sigar\\Anaconda3\\lib\\site-packages\\matplotlib\\mpl-data\\stylelib\\_classic_test.mplstyle: \n",
      "The mathtext.fallback_to_cm rcparam was deprecated in Matplotlib 3.3 and will be removed two minor releases later.\n",
      "In C:\\Users\\sigar\\Anaconda3\\lib\\site-packages\\matplotlib\\mpl-data\\stylelib\\_classic_test.mplstyle: Support for setting the 'mathtext.fallback_to_cm' rcParam is deprecated since 3.3 and will be removed two minor releases later; use 'mathtext.fallback : 'cm' instead.\n",
      "In C:\\Users\\sigar\\Anaconda3\\lib\\site-packages\\matplotlib\\mpl-data\\stylelib\\_classic_test.mplstyle: \n",
      "The validate_bool_maybe_none function was deprecated in Matplotlib 3.3 and will be removed two minor releases later.\n",
      "In C:\\Users\\sigar\\Anaconda3\\lib\\site-packages\\matplotlib\\mpl-data\\stylelib\\_classic_test.mplstyle: \n",
      "The savefig.jpeg_quality rcparam was deprecated in Matplotlib 3.3 and will be removed two minor releases later.\n",
      "In C:\\Users\\sigar\\Anaconda3\\lib\\site-packages\\matplotlib\\mpl-data\\stylelib\\_classic_test.mplstyle: \n",
      "The keymap.all_axes rcparam was deprecated in Matplotlib 3.3 and will be removed two minor releases later.\n",
      "In C:\\Users\\sigar\\Anaconda3\\lib\\site-packages\\matplotlib\\mpl-data\\stylelib\\_classic_test.mplstyle: \n",
      "The animation.avconv_path rcparam was deprecated in Matplotlib 3.3 and will be removed two minor releases later.\n",
      "In C:\\Users\\sigar\\Anaconda3\\lib\\site-packages\\matplotlib\\mpl-data\\stylelib\\_classic_test.mplstyle: \n",
      "The animation.avconv_args rcparam was deprecated in Matplotlib 3.3 and will be removed two minor releases later.\n"
     ]
    },
    {
     "data": {
      "image/png": "[encoded data removed]",
      "text/plain": [
       "<Figure size 432x288 with 1 Axes>"
      ]
     },
     "metadata": {
      "needs_background": "light"
     },
     "output_type": "display_data"
    }
   ],
   "source": [
    "import matplotlib.pyplot as plt\n",
    "\n",
    "plt.scatter(df['similarity_scores_1'], df['similarity_scores_2'], alpha=0.5)\n",
    "plt.xlabel('similarity_scores_1')\n",
    "plt.ylabel('similarity_scores_2')\n",
    "plt.title('Scatter plot of similarity scores')\n",
    "plt.show()\n"
   ]
  },
  {
   "cell_type": "code",
   "execution_count": 5,
   "metadata": {},
   "outputs": [
    {
     "name": "stdout",
     "output_type": "stream",
     "text": [
      "Best cutoff points: similarity_score_1 = 0 similarity_score_2 = 0\n"
     ]
    }
   ],
   "source": [
    "import pandas as pd\n",
    "import numpy as np\n",
    "from scipy.spatial.distance import pdist, squareform\n",
    "\n",
    "# Create a dummy dataset\n",
    "np.random.seed(42)\n",
    "data = {\n",
    "    'similarity_scores_1': np.random.randint(0, 101, 1000),\n",
    "    'similarity_scores_2': np.random.randint(0, 101, 1000),\n",
    "}\n",
    "df = pd.DataFrame(data)\n",
    "\n",
    "# Compute pairwise Euclidean distances\n",
    "distances = squareform(pdist(df, metric='euclidean'))\n",
    "\n",
    "# Initialize variables for tracking the best cutoff points and the lowest ratio\n",
    "best_cutoff_1 = None\n",
    "best_cutoff_2 = None\n",
    "lowest_ratio = float('inf')\n",
    "\n",
    "# Iterate through different cutoff values for both similarity_score_1 and similarity_score_2\n",
    "for cutoff_1 in range(0, 101, 5):\n",
    "    for cutoff_2 in range(0, 101, 5):\n",
    "        \n",
    "        within_group_distances = distances[(df['similarity_scores_1'] > cutoff_1) & (df['similarity_scores_2'] > cutoff_2)]\n",
    "        between_group_distances = distances[~((df['similarity_scores_1'] > cutoff_1) & (df['similarity_scores_2'] > cutoff_2))]\n",
    "        \n",
    "        if len(within_group_distances) > 0 and len(between_group_distances) > 0:\n",
    "            within_group_mean = np.mean(within_group_distances)\n",
    "            between_group_mean = np.mean(between_group_distances)\n",
    "\n",
    "            ratio = within_group_mean / between_group_mean\n",
    "\n",
    "            if ratio < lowest_ratio:\n",
    "                best_cutoff_1 = cutoff_1\n",
    "                best_cutoff_2 = cutoff_2\n",
    "                lowest_ratio = ratio\n",
    "\n",
    "print(\"Best cutoff points: similarity_score_1 =\", best_cutoff_1, \"similarity_score_2 =\", best_cutoff_2)\n"
   ]
  },
  {
   "cell_type": "code",
   "execution_count": 7,
   "metadata": {},
   "outputs": [
    {
     "name": "stdout",
     "output_type": "stream",
     "text": [
      "Best cutoff points: similarity_score_1 = 50 similarity_score_2 = 0\n"
     ]
    }
   ],
   "source": [
    "import pandas as pd\n",
    "import numpy as np\n",
    "from sklearn.preprocessing import MinMaxScaler\n",
    "from sklearn.metrics import silhouette_score\n",
    "\n",
    "# Create a dummy dataset\n",
    "np.random.seed(42)\n",
    "data = {\n",
    "    'similarity_scores_1': np.random.randint(0, 101, 1000),\n",
    "    'similarity_scores_2': np.random.randint(0, 101, 1000),\n",
    "}\n",
    "df = pd.DataFrame(data)\n",
    "\n",
    "# Normalize the similarity scores\n",
    "scaler = MinMaxScaler()\n",
    "normalized_data = scaler.fit_transform(df)\n",
    "\n",
    "# Initialize variables for tracking the best cutoff points and the highest silhouette score\n",
    "best_cutoff_1 = None\n",
    "best_cutoff_2 = None\n",
    "highest_silhouette = -1\n",
    "\n",
    "# Iterate through different cutoff values for both similarity_score_1 and similarity_score_2\n",
    "for cutoff_1 in range(0, 101, 5):\n",
    "    for cutoff_2 in range(0, 101, 5):\n",
    "        \n",
    "        # Cluster the data based on the current cutoff values\n",
    "        labels = (normalized_data[:, 0] > cutoff_1 / 100) & (normalized_data[:, 1] > cutoff_2 / 100)\n",
    "        labels = labels.astype(int)\n",
    "        \n",
    "        # Check if there are at least two different labels\n",
    "        if len(np.unique(labels)) > 1:\n",
    "            # Calculate the silhouette score for the current clustering\n",
    "            silhouette = silhouette_score(normalized_data, labels)\n",
    "            \n",
    "            # Update the best cutoff points and highest silhouette score if needed\n",
    "            if silhouette > highest_silhouette:\n",
    "                best_cutoff_1 = cutoff_1\n",
    "                best_cutoff_2 = cutoff_2\n",
    "                highest_silhouette = silhouette\n",
    "\n",
    "print(\"Best cutoff points: similarity_score_1 =\", best_cutoff_1, \"similarity_score_2 =\", best_cutoff_2)\n"
   ]
  },
  {
   "cell_type": "code",
   "execution_count": null,
   "metadata": {},
   "outputs": [],
   "source": []
  }
 ],
 "metadata": {
  "kernelspec": {
   "display_name": "Python 3",
   "language": "python",
   "name": "python3"
  },
  "language_info": {
   "codemirror_mode": {
    "name": "ipython",
    "version": 3
   },
   "file_extension": ".py",
   "mimetype": "text/x-python",
   "name": "python",
   "nbconvert_exporter": "python",
   "pygments_lexer": "ipython3",
   "version": "3.7.9"
  }
 },
 "nbformat": 4,
 "nbformat_minor": 4
}
