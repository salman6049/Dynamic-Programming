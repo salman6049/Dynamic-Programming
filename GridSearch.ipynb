{
 "cells": [
  {
   "cell_type": "code",
   "execution_count": null,
   "metadata": {},
   "outputs": [],
   "source": [
    "from sklearn.model_selection import GridSearchCV\n",
    "\n",
    "def grid_search_classifiers(classifiers, param_grids, X_train, y_train):\n",
    "    best_params = {}\n",
    "    for name, clf in classifiers.items():\n",
    "        grid_search = GridSearchCV(clf, param_grids[name], cv=5, scoring='accuracy', n_jobs=-1)\n",
    "        grid_search.fit(X_train, y_train)\n",
    "        best_params[name] = grid_search.best_params_\n",
    "    return best_params\n",
    "\n",
    "# Define the parameter grids for each classifier\n",
    "param_grids = {\n",
    "    'logistic regression': {\n",
    "        'C': [0.001, 0.01, 0.1, 1, 10, 100, 1000]\n",
    "    },\n",
    "    'SVM': {\n",
    "        'C': [0.1, 1, 10, 100],\n",
    "        'gamma': ['scale', 'auto', 0.1, 1, 10, 100],\n",
    "        'kernel': ['linear', 'rbf', 'sigmoid']\n",
    "    },\n",
    "    'Random Forest': {\n",
    "        'n_estimators': [10, 50, 100, 200],\n",
    "        'max_depth': [None, 10, 20, 30],\n",
    "        'min_samples_split': [2, 5, 10],\n",
    "        'min_samples_leaf': [1, 2, 4]\n",
    "    }\n",
    "}\n",
    "\n",
    "# Find the best parameters for each classifier\n",
    "best_params = grid_search_classifiers(classifiers, param_grids, X_train, y_train)\n",
    "\n",
    "# Update classifiers with the best parameters\n",
    "for name, clf in classifiers.items():\n",
    "    clf.set_params(**best_params[name])\n",
    "\n",
    "# Evaluate classifiers with the new parameters\n",
    "classifier_results = evaluate_classifiers(classifiers, X_train, X_test, y_train, y_test)\n",
    "\n",
    "for name, accuracy in classifier_results.items():\n",
    "    print(f\"{name}: {accuracy:.2f}\")\n"
   ]
  }
 ],
 "metadata": {
  "kernelspec": {
   "display_name": "Python 3",
   "language": "python",
   "name": "python3"
  },
  "language_info": {
   "codemirror_mode": {
    "name": "ipython",
    "version": 3
   },
   "file_extension": ".py",
   "mimetype": "text/x-python",
   "name": "python",
   "nbconvert_exporter": "python",
   "pygments_lexer": "ipython3",
   "version": "3.7.9"
  }
 },
 "nbformat": 4,
 "nbformat_minor": 4
}
